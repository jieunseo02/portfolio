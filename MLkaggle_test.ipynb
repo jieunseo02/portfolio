{
  "cells": [
    {
      "cell_type": "markdown",
      "metadata": {
        "id": "view-in-github",
        "colab_type": "text"
      },
      "source": [
        "<a href=\"https://colab.research.google.com/github/jieunseo02/portfolio/blob/main/MLkaggle_test.ipynb\" target=\"_parent\"><img src=\"https://colab.research.google.com/assets/colab-badge.svg\" alt=\"Open In Colab\"/></a>"
      ]
    },
    {
      "cell_type": "code",
      "execution_count": null,
      "id": "67136077",
      "metadata": {
        "_cell_guid": "b1076dfc-b9ad-4769-8c92-a6c4dae69d19",
        "_uuid": "8f2839f25d086af736a60e9eeb907d3b93b6e0e5",
        "execution": {
          "iopub.execute_input": "2025-06-05T05:40:22.063252Z",
          "iopub.status.busy": "2025-06-05T05:40:22.062468Z",
          "iopub.status.idle": "2025-06-05T05:40:24.310954Z",
          "shell.execute_reply": "2025-06-05T05:40:24.309932Z"
        },
        "papermill": {
          "duration": 2.255602,
          "end_time": "2025-06-05T05:40:24.312759",
          "exception": false,
          "start_time": "2025-06-05T05:40:22.057157",
          "status": "completed"
        },
        "tags": [],
        "id": "67136077",
        "outputId": "161553b5-5f02-4387-acea-9b2597da1c3b"
      },
      "outputs": [
        {
          "name": "stdout",
          "output_type": "stream",
          "text": [
            "/kaggle/input/2025-hallym-mlp-project-3/sample_submission.csv\n",
            "/kaggle/input/2025-hallym-mlp-project-3/train.csv\n",
            "/kaggle/input/2025-hallym-mlp-project-3/test.csv\n"
          ]
        }
      ],
      "source": [
        "# This Python 3 environment comes with many helpful analytics libraries installed\n",
        "# It is defined by the kaggle/python Docker image: https://github.com/kaggle/docker-python\n",
        "# For example, here's several helpful packages to load\n",
        "\n",
        "import numpy as np # linear algebra\n",
        "import pandas as pd # data processing, CSV file I/O (e.g. pd.read_csv)\n",
        "\n",
        "# Input data files are available in the read-only \"../input/\" directory\n",
        "# For example, running this (by clicking run or pressing Shift+Enter) will list all files under the input directory\n",
        "\n",
        "import os\n",
        "for dirname, _, filenames in os.walk('/kaggle/input'):\n",
        "    for filename in filenames:\n",
        "        print(os.path.join(dirname, filename))\n",
        "\n",
        "# You can write up to 20GB to the current directory (/kaggle/working/) that gets preserved as output when you create a version using \"Save & Run All\"\n",
        "# You can also write temporary files to /kaggle/temp/, but they won't be saved outside of the current session"
      ]
    },
    {
      "cell_type": "code",
      "execution_count": null,
      "id": "67e77ed1",
      "metadata": {
        "execution": {
          "iopub.execute_input": "2025-06-05T05:40:24.322222Z",
          "iopub.status.busy": "2025-06-05T05:40:24.321802Z",
          "iopub.status.idle": "2025-06-05T05:40:24.438431Z",
          "shell.execute_reply": "2025-06-05T05:40:24.437573Z"
        },
        "papermill": {
          "duration": 0.123237,
          "end_time": "2025-06-05T05:40:24.440300",
          "exception": false,
          "start_time": "2025-06-05T05:40:24.317063",
          "status": "completed"
        },
        "tags": [],
        "id": "67e77ed1"
      },
      "outputs": [],
      "source": [
        "df_tr = pd.read_csv('/kaggle/input/2025-hallym-mlp-project-3/train.csv', index_col='ID')\n",
        "df_te = pd.read_csv('/kaggle/input/2025-hallym-mlp-project-3/test.csv', index_col='ID')\n",
        "df_submission = pd.read_csv('/kaggle/input/2025-hallym-mlp-project-3/sample_submission.csv', index_col='ID')"
      ]
    },
    {
      "cell_type": "code",
      "execution_count": null,
      "id": "34c5d062",
      "metadata": {
        "execution": {
          "iopub.execute_input": "2025-06-05T05:40:24.448969Z",
          "iopub.status.busy": "2025-06-05T05:40:24.448693Z",
          "iopub.status.idle": "2025-06-05T05:40:24.476486Z",
          "shell.execute_reply": "2025-06-05T05:40:24.475368Z"
        },
        "papermill": {
          "duration": 0.034028,
          "end_time": "2025-06-05T05:40:24.478214",
          "exception": false,
          "start_time": "2025-06-05T05:40:24.444186",
          "status": "completed"
        },
        "tags": [],
        "id": "34c5d062",
        "outputId": "6d48fce6-08a3-49fe-9fbb-9d508cdfcce8"
      },
      "outputs": [
        {
          "name": "stdout",
          "output_type": "stream",
          "text": [
            "(17519, 13)\n"
          ]
        },
        {
          "data": {
            "text/html": [
              "<div>\n",
              "<style scoped>\n",
              "    .dataframe tbody tr th:only-of-type {\n",
              "        vertical-align: middle;\n",
              "    }\n",
              "\n",
              "    .dataframe tbody tr th {\n",
              "        vertical-align: top;\n",
              "    }\n",
              "\n",
              "    .dataframe thead th {\n",
              "        text-align: right;\n",
              "    }\n",
              "</style>\n",
              "<table border=\"1\" class=\"dataframe\">\n",
              "  <thead>\n",
              "    <tr style=\"text-align: right;\">\n",
              "      <th></th>\n",
              "      <th>year</th>\n",
              "      <th>month</th>\n",
              "      <th>day</th>\n",
              "      <th>days</th>\n",
              "      <th>hour</th>\n",
              "      <th>ta</th>\n",
              "      <th>wd</th>\n",
              "      <th>ws</th>\n",
              "      <th>rn_day</th>\n",
              "      <th>rn_hr1</th>\n",
              "      <th>hm</th>\n",
              "      <th>ta_chi</th>\n",
              "      <th>demand</th>\n",
              "    </tr>\n",
              "    <tr>\n",
              "      <th>ID</th>\n",
              "      <th></th>\n",
              "      <th></th>\n",
              "      <th></th>\n",
              "      <th></th>\n",
              "      <th></th>\n",
              "      <th></th>\n",
              "      <th></th>\n",
              "      <th></th>\n",
              "      <th></th>\n",
              "      <th></th>\n",
              "      <th></th>\n",
              "      <th></th>\n",
              "      <th></th>\n",
              "    </tr>\n",
              "  </thead>\n",
              "  <tbody>\n",
              "    <tr>\n",
              "      <th>0</th>\n",
              "      <td>2023</td>\n",
              "      <td>1</td>\n",
              "      <td>1</td>\n",
              "      <td>1</td>\n",
              "      <td>1</td>\n",
              "      <td>-7.60</td>\n",
              "      <td>193.70</td>\n",
              "      <td>1.10</td>\n",
              "      <td>0.0</td>\n",
              "      <td>0.0</td>\n",
              "      <td>58.15</td>\n",
              "      <td>-8.30</td>\n",
              "      <td>644.0</td>\n",
              "    </tr>\n",
              "    <tr>\n",
              "      <th>1</th>\n",
              "      <td>2023</td>\n",
              "      <td>1</td>\n",
              "      <td>1</td>\n",
              "      <td>1</td>\n",
              "      <td>2</td>\n",
              "      <td>-7.85</td>\n",
              "      <td>76.70</td>\n",
              "      <td>0.75</td>\n",
              "      <td>0.0</td>\n",
              "      <td>0.0</td>\n",
              "      <td>57.50</td>\n",
              "      <td>-8.75</td>\n",
              "      <td>632.0</td>\n",
              "    </tr>\n",
              "    <tr>\n",
              "      <th>2</th>\n",
              "      <td>2023</td>\n",
              "      <td>1</td>\n",
              "      <td>1</td>\n",
              "      <td>1</td>\n",
              "      <td>3</td>\n",
              "      <td>-9.45</td>\n",
              "      <td>148.45</td>\n",
              "      <td>0.45</td>\n",
              "      <td>0.0</td>\n",
              "      <td>0.0</td>\n",
              "      <td>66.00</td>\n",
              "      <td>-9.45</td>\n",
              "      <td>610.0</td>\n",
              "    </tr>\n",
              "    <tr>\n",
              "      <th>3</th>\n",
              "      <td>2023</td>\n",
              "      <td>1</td>\n",
              "      <td>1</td>\n",
              "      <td>1</td>\n",
              "      <td>4</td>\n",
              "      <td>-9.55</td>\n",
              "      <td>141.10</td>\n",
              "      <td>0.40</td>\n",
              "      <td>0.0</td>\n",
              "      <td>0.0</td>\n",
              "      <td>66.15</td>\n",
              "      <td>-9.70</td>\n",
              "      <td>595.5</td>\n",
              "    </tr>\n",
              "    <tr>\n",
              "      <th>4</th>\n",
              "      <td>2023</td>\n",
              "      <td>1</td>\n",
              "      <td>1</td>\n",
              "      <td>1</td>\n",
              "      <td>5</td>\n",
              "      <td>-9.45</td>\n",
              "      <td>162.15</td>\n",
              "      <td>1.00</td>\n",
              "      <td>0.0</td>\n",
              "      <td>0.0</td>\n",
              "      <td>69.95</td>\n",
              "      <td>-9.90</td>\n",
              "      <td>573.5</td>\n",
              "    </tr>\n",
              "  </tbody>\n",
              "</table>\n",
              "</div>"
            ],
            "text/plain": [
              "    year  month  day  days  hour    ta      wd    ws  rn_day  rn_hr1     hm  \\\n",
              "ID                                                                            \n",
              "0   2023      1    1     1     1 -7.60  193.70  1.10     0.0     0.0  58.15   \n",
              "1   2023      1    1     1     2 -7.85   76.70  0.75     0.0     0.0  57.50   \n",
              "2   2023      1    1     1     3 -9.45  148.45  0.45     0.0     0.0  66.00   \n",
              "3   2023      1    1     1     4 -9.55  141.10  0.40     0.0     0.0  66.15   \n",
              "4   2023      1    1     1     5 -9.45  162.15  1.00     0.0     0.0  69.95   \n",
              "\n",
              "    ta_chi  demand  \n",
              "ID                  \n",
              "0    -8.30   644.0  \n",
              "1    -8.75   632.0  \n",
              "2    -9.45   610.0  \n",
              "3    -9.70   595.5  \n",
              "4    -9.90   573.5  "
            ]
          },
          "execution_count": 3,
          "metadata": {},
          "output_type": "execute_result"
        }
      ],
      "source": [
        "print(df_tr.shape)\n",
        "df_tr.head()"
      ]
    },
    {
      "cell_type": "code",
      "execution_count": null,
      "id": "a7843b4f",
      "metadata": {
        "execution": {
          "iopub.execute_input": "2025-06-05T05:40:24.487466Z",
          "iopub.status.busy": "2025-06-05T05:40:24.487165Z",
          "iopub.status.idle": "2025-06-05T05:40:24.502559Z",
          "shell.execute_reply": "2025-06-05T05:40:24.501720Z"
        },
        "papermill": {
          "duration": 0.021732,
          "end_time": "2025-06-05T05:40:24.504014",
          "exception": false,
          "start_time": "2025-06-05T05:40:24.482282",
          "status": "completed"
        },
        "tags": [],
        "id": "a7843b4f",
        "outputId": "c456bbb0-377e-4003-8451-ae380e9d6063"
      },
      "outputs": [
        {
          "name": "stdout",
          "output_type": "stream",
          "text": [
            "(8760, 12)\n"
          ]
        },
        {
          "data": {
            "text/html": [
              "<div>\n",
              "<style scoped>\n",
              "    .dataframe tbody tr th:only-of-type {\n",
              "        vertical-align: middle;\n",
              "    }\n",
              "\n",
              "    .dataframe tbody tr th {\n",
              "        vertical-align: top;\n",
              "    }\n",
              "\n",
              "    .dataframe thead th {\n",
              "        text-align: right;\n",
              "    }\n",
              "</style>\n",
              "<table border=\"1\" class=\"dataframe\">\n",
              "  <thead>\n",
              "    <tr style=\"text-align: right;\">\n",
              "      <th></th>\n",
              "      <th>year</th>\n",
              "      <th>month</th>\n",
              "      <th>day</th>\n",
              "      <th>days</th>\n",
              "      <th>hour</th>\n",
              "      <th>ta</th>\n",
              "      <th>wd</th>\n",
              "      <th>ws</th>\n",
              "      <th>rn_day</th>\n",
              "      <th>rn_hr1</th>\n",
              "      <th>hm</th>\n",
              "      <th>ta_chi</th>\n",
              "    </tr>\n",
              "    <tr>\n",
              "      <th>ID</th>\n",
              "      <th></th>\n",
              "      <th></th>\n",
              "      <th></th>\n",
              "      <th></th>\n",
              "      <th></th>\n",
              "      <th></th>\n",
              "      <th></th>\n",
              "      <th></th>\n",
              "      <th></th>\n",
              "      <th></th>\n",
              "      <th></th>\n",
              "      <th></th>\n",
              "    </tr>\n",
              "  </thead>\n",
              "  <tbody>\n",
              "    <tr>\n",
              "      <th>0</th>\n",
              "      <td>2025</td>\n",
              "      <td>1</td>\n",
              "      <td>1</td>\n",
              "      <td>1</td>\n",
              "      <td>0</td>\n",
              "      <td>-2.2</td>\n",
              "      <td>100.15</td>\n",
              "      <td>0.35</td>\n",
              "      <td>0.0</td>\n",
              "      <td>0.0</td>\n",
              "      <td>75.75</td>\n",
              "      <td>-1.90</td>\n",
              "    </tr>\n",
              "    <tr>\n",
              "      <th>1</th>\n",
              "      <td>2025</td>\n",
              "      <td>1</td>\n",
              "      <td>1</td>\n",
              "      <td>1</td>\n",
              "      <td>1</td>\n",
              "      <td>-1.7</td>\n",
              "      <td>128.90</td>\n",
              "      <td>0.70</td>\n",
              "      <td>0.0</td>\n",
              "      <td>0.0</td>\n",
              "      <td>74.85</td>\n",
              "      <td>-1.45</td>\n",
              "    </tr>\n",
              "    <tr>\n",
              "      <th>2</th>\n",
              "      <td>2025</td>\n",
              "      <td>1</td>\n",
              "      <td>1</td>\n",
              "      <td>1</td>\n",
              "      <td>2</td>\n",
              "      <td>-2.0</td>\n",
              "      <td>211.25</td>\n",
              "      <td>0.20</td>\n",
              "      <td>0.0</td>\n",
              "      <td>0.0</td>\n",
              "      <td>76.15</td>\n",
              "      <td>-1.55</td>\n",
              "    </tr>\n",
              "    <tr>\n",
              "      <th>3</th>\n",
              "      <td>2025</td>\n",
              "      <td>1</td>\n",
              "      <td>1</td>\n",
              "      <td>1</td>\n",
              "      <td>3</td>\n",
              "      <td>-2.2</td>\n",
              "      <td>321.80</td>\n",
              "      <td>0.15</td>\n",
              "      <td>0.0</td>\n",
              "      <td>0.0</td>\n",
              "      <td>79.05</td>\n",
              "      <td>-1.75</td>\n",
              "    </tr>\n",
              "    <tr>\n",
              "      <th>4</th>\n",
              "      <td>2025</td>\n",
              "      <td>1</td>\n",
              "      <td>1</td>\n",
              "      <td>1</td>\n",
              "      <td>4</td>\n",
              "      <td>-1.5</td>\n",
              "      <td>324.05</td>\n",
              "      <td>0.20</td>\n",
              "      <td>0.0</td>\n",
              "      <td>0.0</td>\n",
              "      <td>78.90</td>\n",
              "      <td>-1.55</td>\n",
              "    </tr>\n",
              "  </tbody>\n",
              "</table>\n",
              "</div>"
            ],
            "text/plain": [
              "    year  month  day  days  hour   ta      wd    ws  rn_day  rn_hr1     hm  \\\n",
              "ID                                                                           \n",
              "0   2025      1    1     1     0 -2.2  100.15  0.35     0.0     0.0  75.75   \n",
              "1   2025      1    1     1     1 -1.7  128.90  0.70     0.0     0.0  74.85   \n",
              "2   2025      1    1     1     2 -2.0  211.25  0.20     0.0     0.0  76.15   \n",
              "3   2025      1    1     1     3 -2.2  321.80  0.15     0.0     0.0  79.05   \n",
              "4   2025      1    1     1     4 -1.5  324.05  0.20     0.0     0.0  78.90   \n",
              "\n",
              "    ta_chi  \n",
              "ID          \n",
              "0    -1.90  \n",
              "1    -1.45  \n",
              "2    -1.55  \n",
              "3    -1.75  \n",
              "4    -1.55  "
            ]
          },
          "execution_count": 4,
          "metadata": {},
          "output_type": "execute_result"
        }
      ],
      "source": [
        "print(df_te.shape)\n",
        "df_te.head()"
      ]
    },
    {
      "cell_type": "code",
      "execution_count": null,
      "id": "888f03e8",
      "metadata": {
        "execution": {
          "iopub.execute_input": "2025-06-05T05:40:24.513331Z",
          "iopub.status.busy": "2025-06-05T05:40:24.513047Z",
          "iopub.status.idle": "2025-06-05T05:40:24.521884Z",
          "shell.execute_reply": "2025-06-05T05:40:24.520966Z"
        },
        "papermill": {
          "duration": 0.015456,
          "end_time": "2025-06-05T05:40:24.523654",
          "exception": false,
          "start_time": "2025-06-05T05:40:24.508198",
          "status": "completed"
        },
        "tags": [],
        "id": "888f03e8",
        "outputId": "2916d6db-5a17-41d3-de58-0e5fe045f404"
      },
      "outputs": [
        {
          "name": "stdout",
          "output_type": "stream",
          "text": [
            "(8760, 1)\n"
          ]
        },
        {
          "data": {
            "text/html": [
              "<div>\n",
              "<style scoped>\n",
              "    .dataframe tbody tr th:only-of-type {\n",
              "        vertical-align: middle;\n",
              "    }\n",
              "\n",
              "    .dataframe tbody tr th {\n",
              "        vertical-align: top;\n",
              "    }\n",
              "\n",
              "    .dataframe thead th {\n",
              "        text-align: right;\n",
              "    }\n",
              "</style>\n",
              "<table border=\"1\" class=\"dataframe\">\n",
              "  <thead>\n",
              "    <tr style=\"text-align: right;\">\n",
              "      <th></th>\n",
              "      <th>demand</th>\n",
              "    </tr>\n",
              "    <tr>\n",
              "      <th>ID</th>\n",
              "      <th></th>\n",
              "    </tr>\n",
              "  </thead>\n",
              "  <tbody>\n",
              "    <tr>\n",
              "      <th>0</th>\n",
              "      <td>574.306512</td>\n",
              "    </tr>\n",
              "    <tr>\n",
              "      <th>1</th>\n",
              "      <td>546.912154</td>\n",
              "    </tr>\n",
              "    <tr>\n",
              "      <th>2</th>\n",
              "      <td>506.301659</td>\n",
              "    </tr>\n",
              "    <tr>\n",
              "      <th>3</th>\n",
              "      <td>482.623444</td>\n",
              "    </tr>\n",
              "    <tr>\n",
              "      <th>4</th>\n",
              "      <td>472.110690</td>\n",
              "    </tr>\n",
              "  </tbody>\n",
              "</table>\n",
              "</div>"
            ],
            "text/plain": [
              "        demand\n",
              "ID            \n",
              "0   574.306512\n",
              "1   546.912154\n",
              "2   506.301659\n",
              "3   482.623444\n",
              "4   472.110690"
            ]
          },
          "execution_count": 5,
          "metadata": {},
          "output_type": "execute_result"
        }
      ],
      "source": [
        "print(df_submission.shape)\n",
        "df_submission.head()"
      ]
    },
    {
      "cell_type": "code",
      "execution_count": null,
      "id": "5e2e16bf",
      "metadata": {
        "execution": {
          "iopub.execute_input": "2025-06-05T05:40:24.533967Z",
          "iopub.status.busy": "2025-06-05T05:40:24.533380Z",
          "iopub.status.idle": "2025-06-05T05:40:24.545272Z",
          "shell.execute_reply": "2025-06-05T05:40:24.544313Z"
        },
        "papermill": {
          "duration": 0.019095,
          "end_time": "2025-06-05T05:40:24.547100",
          "exception": false,
          "start_time": "2025-06-05T05:40:24.528005",
          "status": "completed"
        },
        "tags": [],
        "id": "5e2e16bf"
      },
      "outputs": [],
      "source": [
        "## 훈련데이터\n",
        "X_tr = df_tr.drop(columns='demand')\n",
        "y_tr = df_tr['demand']\n",
        "\n",
        "## 시험데이터\n",
        "X_te = df_te.copy()"
      ]
    },
    {
      "cell_type": "markdown",
      "id": "11091827",
      "metadata": {
        "papermill": {
          "duration": 0.003899,
          "end_time": "2025-06-05T05:40:24.555249",
          "exception": false,
          "start_time": "2025-06-05T05:40:24.551350",
          "status": "completed"
        },
        "tags": [],
        "id": "11091827"
      },
      "source": [
        "2. 데이터 전처리 및 회귀 모델 개발"
      ]
    },
    {
      "cell_type": "code",
      "execution_count": null,
      "id": "f5bf7d53",
      "metadata": {
        "execution": {
          "iopub.execute_input": "2025-06-05T05:40:24.565530Z",
          "iopub.status.busy": "2025-06-05T05:40:24.564505Z",
          "iopub.status.idle": "2025-06-05T05:40:24.623308Z",
          "shell.execute_reply": "2025-06-05T05:40:24.622186Z"
        },
        "papermill": {
          "duration": 0.065824,
          "end_time": "2025-06-05T05:40:24.625302",
          "exception": false,
          "start_time": "2025-06-05T05:40:24.559478",
          "status": "completed"
        },
        "tags": [],
        "id": "f5bf7d53",
        "outputId": "bf3ca41b-a0e2-4e67-8a78-591c597806e6"
      },
      "outputs": [
        {
          "data": {
            "text/html": [
              "<div>\n",
              "<style scoped>\n",
              "    .dataframe tbody tr th:only-of-type {\n",
              "        vertical-align: middle;\n",
              "    }\n",
              "\n",
              "    .dataframe tbody tr th {\n",
              "        vertical-align: top;\n",
              "    }\n",
              "\n",
              "    .dataframe thead th {\n",
              "        text-align: right;\n",
              "    }\n",
              "</style>\n",
              "<table border=\"1\" class=\"dataframe\">\n",
              "  <thead>\n",
              "    <tr style=\"text-align: right;\">\n",
              "      <th></th>\n",
              "      <th>year</th>\n",
              "      <th>month</th>\n",
              "      <th>day</th>\n",
              "      <th>days</th>\n",
              "      <th>hour</th>\n",
              "      <th>ta</th>\n",
              "      <th>wd</th>\n",
              "      <th>ws</th>\n",
              "      <th>rn_day</th>\n",
              "      <th>rn_hr1</th>\n",
              "      <th>hm</th>\n",
              "      <th>ta_chi</th>\n",
              "      <th>demand</th>\n",
              "    </tr>\n",
              "  </thead>\n",
              "  <tbody>\n",
              "    <tr>\n",
              "      <th>count</th>\n",
              "      <td>17519.000000</td>\n",
              "      <td>17519.000000</td>\n",
              "      <td>17519.000000</td>\n",
              "      <td>17519.000000</td>\n",
              "      <td>17519.000000</td>\n",
              "      <td>17519.000000</td>\n",
              "      <td>17519.000000</td>\n",
              "      <td>17519.000000</td>\n",
              "      <td>17519.000000</td>\n",
              "      <td>17519.000000</td>\n",
              "      <td>17519.000000</td>\n",
              "      <td>17519.000000</td>\n",
              "      <td>17519.000000</td>\n",
              "    </tr>\n",
              "    <tr>\n",
              "      <th>mean</th>\n",
              "      <td>2023.500029</td>\n",
              "      <td>6.526343</td>\n",
              "      <td>15.721388</td>\n",
              "      <td>183.010389</td>\n",
              "      <td>11.500656</td>\n",
              "      <td>12.635793</td>\n",
              "      <td>196.445068</td>\n",
              "      <td>-3.100111</td>\n",
              "      <td>-12.511781</td>\n",
              "      <td>-16.305226</td>\n",
              "      <td>62.474062</td>\n",
              "      <td>13.583133</td>\n",
              "      <td>232.185342</td>\n",
              "    </tr>\n",
              "    <tr>\n",
              "      <th>std</th>\n",
              "      <td>0.500014</td>\n",
              "      <td>3.447795</td>\n",
              "      <td>8.796046</td>\n",
              "      <td>105.363070</td>\n",
              "      <td>6.922036</td>\n",
              "      <td>76.555363</td>\n",
              "      <td>203.058588</td>\n",
              "      <td>185.141936</td>\n",
              "      <td>337.836951</td>\n",
              "      <td>369.921910</td>\n",
              "      <td>79.051670</td>\n",
              "      <td>11.844822</td>\n",
              "      <td>181.743020</td>\n",
              "    </tr>\n",
              "    <tr>\n",
              "      <th>min</th>\n",
              "      <td>2023.000000</td>\n",
              "      <td>1.000000</td>\n",
              "      <td>1.000000</td>\n",
              "      <td>1.000000</td>\n",
              "      <td>0.000000</td>\n",
              "      <td>-9999.000000</td>\n",
              "      <td>-9999.000000</td>\n",
              "      <td>-9999.000000</td>\n",
              "      <td>-9999.000000</td>\n",
              "      <td>-9999.000000</td>\n",
              "      <td>-9999.000000</td>\n",
              "      <td>-22.250000</td>\n",
              "      <td>22.000000</td>\n",
              "    </tr>\n",
              "    <tr>\n",
              "      <th>25%</th>\n",
              "      <td>2023.000000</td>\n",
              "      <td>4.000000</td>\n",
              "      <td>8.000000</td>\n",
              "      <td>92.000000</td>\n",
              "      <td>6.000000</td>\n",
              "      <td>4.900000</td>\n",
              "      <td>148.750000</td>\n",
              "      <td>0.500000</td>\n",
              "      <td>0.000000</td>\n",
              "      <td>0.000000</td>\n",
              "      <td>47.400000</td>\n",
              "      <td>4.550000</td>\n",
              "      <td>90.000000</td>\n",
              "    </tr>\n",
              "    <tr>\n",
              "      <th>50%</th>\n",
              "      <td>2024.000000</td>\n",
              "      <td>7.000000</td>\n",
              "      <td>16.000000</td>\n",
              "      <td>183.000000</td>\n",
              "      <td>12.000000</td>\n",
              "      <td>14.450000</td>\n",
              "      <td>200.600000</td>\n",
              "      <td>1.050000</td>\n",
              "      <td>0.000000</td>\n",
              "      <td>0.000000</td>\n",
              "      <td>63.800000</td>\n",
              "      <td>14.600000</td>\n",
              "      <td>152.000000</td>\n",
              "    </tr>\n",
              "    <tr>\n",
              "      <th>75%</th>\n",
              "      <td>2024.000000</td>\n",
              "      <td>10.000000</td>\n",
              "      <td>23.000000</td>\n",
              "      <td>274.000000</td>\n",
              "      <td>17.500000</td>\n",
              "      <td>22.850000</td>\n",
              "      <td>254.475000</td>\n",
              "      <td>1.700000</td>\n",
              "      <td>0.000000</td>\n",
              "      <td>0.000000</td>\n",
              "      <td>80.550000</td>\n",
              "      <td>23.900000</td>\n",
              "      <td>355.500000</td>\n",
              "    </tr>\n",
              "    <tr>\n",
              "      <th>max</th>\n",
              "      <td>2024.000000</td>\n",
              "      <td>12.000000</td>\n",
              "      <td>31.000000</td>\n",
              "      <td>365.000000</td>\n",
              "      <td>23.000000</td>\n",
              "      <td>36.950000</td>\n",
              "      <td>360.000000</td>\n",
              "      <td>5.550000</td>\n",
              "      <td>135.500000</td>\n",
              "      <td>13.750000</td>\n",
              "      <td>99.600000</td>\n",
              "      <td>35.450000</td>\n",
              "      <td>838.500000</td>\n",
              "    </tr>\n",
              "  </tbody>\n",
              "</table>\n",
              "</div>"
            ],
            "text/plain": [
              "               year         month           day          days          hour  \\\n",
              "count  17519.000000  17519.000000  17519.000000  17519.000000  17519.000000   \n",
              "mean    2023.500029      6.526343     15.721388    183.010389     11.500656   \n",
              "std        0.500014      3.447795      8.796046    105.363070      6.922036   \n",
              "min     2023.000000      1.000000      1.000000      1.000000      0.000000   \n",
              "25%     2023.000000      4.000000      8.000000     92.000000      6.000000   \n",
              "50%     2024.000000      7.000000     16.000000    183.000000     12.000000   \n",
              "75%     2024.000000     10.000000     23.000000    274.000000     17.500000   \n",
              "max     2024.000000     12.000000     31.000000    365.000000     23.000000   \n",
              "\n",
              "                 ta            wd            ws        rn_day        rn_hr1  \\\n",
              "count  17519.000000  17519.000000  17519.000000  17519.000000  17519.000000   \n",
              "mean      12.635793    196.445068     -3.100111    -12.511781    -16.305226   \n",
              "std       76.555363    203.058588    185.141936    337.836951    369.921910   \n",
              "min    -9999.000000  -9999.000000  -9999.000000  -9999.000000  -9999.000000   \n",
              "25%        4.900000    148.750000      0.500000      0.000000      0.000000   \n",
              "50%       14.450000    200.600000      1.050000      0.000000      0.000000   \n",
              "75%       22.850000    254.475000      1.700000      0.000000      0.000000   \n",
              "max       36.950000    360.000000      5.550000    135.500000     13.750000   \n",
              "\n",
              "                 hm        ta_chi        demand  \n",
              "count  17519.000000  17519.000000  17519.000000  \n",
              "mean      62.474062     13.583133    232.185342  \n",
              "std       79.051670     11.844822    181.743020  \n",
              "min    -9999.000000    -22.250000     22.000000  \n",
              "25%       47.400000      4.550000     90.000000  \n",
              "50%       63.800000     14.600000    152.000000  \n",
              "75%       80.550000     23.900000    355.500000  \n",
              "max       99.600000     35.450000    838.500000  "
            ]
          },
          "execution_count": 7,
          "metadata": {},
          "output_type": "execute_result"
        }
      ],
      "source": [
        "df_tr.describe()"
      ]
    },
    {
      "cell_type": "code",
      "execution_count": null,
      "id": "10bad4b5",
      "metadata": {
        "execution": {
          "iopub.execute_input": "2025-06-05T05:40:24.636537Z",
          "iopub.status.busy": "2025-06-05T05:40:24.636178Z",
          "iopub.status.idle": "2025-06-05T05:40:24.647432Z",
          "shell.execute_reply": "2025-06-05T05:40:24.646544Z"
        },
        "papermill": {
          "duration": 0.018802,
          "end_time": "2025-06-05T05:40:24.649267",
          "exception": false,
          "start_time": "2025-06-05T05:40:24.630465",
          "status": "completed"
        },
        "tags": [],
        "id": "10bad4b5"
      },
      "outputs": [],
      "source": [
        "df = df_tr.copy()\n",
        "df[df == -9999] = np.nan"
      ]
    },
    {
      "cell_type": "code",
      "execution_count": null,
      "id": "e26864eb",
      "metadata": {
        "execution": {
          "iopub.execute_input": "2025-06-05T05:40:24.660253Z",
          "iopub.status.busy": "2025-06-05T05:40:24.659907Z",
          "iopub.status.idle": "2025-06-05T05:40:27.331020Z",
          "shell.execute_reply": "2025-06-05T05:40:27.329696Z"
        },
        "papermill": {
          "duration": 2.678493,
          "end_time": "2025-06-05T05:40:27.332771",
          "exception": false,
          "start_time": "2025-06-05T05:40:24.654278",
          "status": "completed"
        },
        "tags": [],
        "id": "e26864eb"
      },
      "outputs": [],
      "source": [
        "from sklearn.preprocessing import MinMaxScaler, StandardScaler, OneHotEncoder\n",
        "from sklearn.compose import ColumnTransformer\n",
        "from sklearn.linear_model import RidgeCV\n",
        "from sklearn.ensemble import HistGradientBoostingRegressor\n",
        "from sklearn.pipeline import make_pipeline"
      ]
    },
    {
      "cell_type": "code",
      "execution_count": null,
      "id": "f5df9dd5",
      "metadata": {
        "execution": {
          "iopub.execute_input": "2025-06-05T05:40:27.343933Z",
          "iopub.status.busy": "2025-06-05T05:40:27.343342Z",
          "iopub.status.idle": "2025-06-05T05:40:27.350592Z",
          "shell.execute_reply": "2025-06-05T05:40:27.349590Z"
        },
        "papermill": {
          "duration": 0.014709,
          "end_time": "2025-06-05T05:40:27.352225",
          "exception": false,
          "start_time": "2025-06-05T05:40:27.337516",
          "status": "completed"
        },
        "tags": [],
        "id": "f5df9dd5"
      },
      "outputs": [],
      "source": [
        "numerical_columns = X_tr.select_dtypes(include=[\"int64\", \"float64\"]).columns.tolist()\n",
        "preprocessor = ColumnTransformer(\n",
        "    transformers=[(\"num\", StandardScaler(), numerical_columns)]\n",
        ")"
      ]
    },
    {
      "cell_type": "code",
      "execution_count": null,
      "id": "4b38c7af",
      "metadata": {
        "execution": {
          "iopub.execute_input": "2025-06-05T05:40:27.363048Z",
          "iopub.status.busy": "2025-06-05T05:40:27.362740Z",
          "iopub.status.idle": "2025-06-05T05:40:27.366817Z",
          "shell.execute_reply": "2025-06-05T05:40:27.366009Z"
        },
        "papermill": {
          "duration": 0.011381,
          "end_time": "2025-06-05T05:40:27.368313",
          "exception": false,
          "start_time": "2025-06-05T05:40:27.356932",
          "status": "completed"
        },
        "tags": [],
        "id": "4b38c7af"
      },
      "outputs": [],
      "source": [
        "one_hot_encoder = OneHotEncoder(handle_unknown=\"ignore\", sparse_output=False)"
      ]
    },
    {
      "cell_type": "code",
      "execution_count": null,
      "id": "5f0e0f6a",
      "metadata": {
        "execution": {
          "iopub.execute_input": "2025-06-05T05:40:27.378510Z",
          "iopub.status.busy": "2025-06-05T05:40:27.378191Z",
          "iopub.status.idle": "2025-06-05T05:40:27.382963Z",
          "shell.execute_reply": "2025-06-05T05:40:27.382184Z"
        },
        "papermill": {
          "duration": 0.011607,
          "end_time": "2025-06-05T05:40:27.384415",
          "exception": false,
          "start_time": "2025-06-05T05:40:27.372808",
          "status": "completed"
        },
        "tags": [],
        "id": "5f0e0f6a"
      },
      "outputs": [],
      "source": [
        "ridge_pipeline = make_pipeline(preprocessor, RidgeCV())\n",
        "gbr_pipeline = make_pipeline(preprocessor, HistGradientBoostingRegressor())"
      ]
    },
    {
      "cell_type": "code",
      "execution_count": null,
      "id": "8ed53347",
      "metadata": {
        "execution": {
          "iopub.execute_input": "2025-06-05T05:40:27.394499Z",
          "iopub.status.busy": "2025-06-05T05:40:27.394203Z",
          "iopub.status.idle": "2025-06-05T05:40:28.143389Z",
          "shell.execute_reply": "2025-06-05T05:40:28.142710Z"
        },
        "papermill": {
          "duration": 0.756312,
          "end_time": "2025-06-05T05:40:28.145203",
          "exception": false,
          "start_time": "2025-06-05T05:40:27.388891",
          "status": "completed"
        },
        "tags": [],
        "id": "8ed53347"
      },
      "outputs": [],
      "source": [
        "model = ridge_pipeline.fit(X_tr, y_tr)\n",
        "model = gbr_pipeline.fit(X_tr, y_tr)"
      ]
    },
    {
      "cell_type": "markdown",
      "id": "2ca6a6d2",
      "metadata": {
        "papermill": {
          "duration": 0.00449,
          "end_time": "2025-06-05T05:40:28.155846",
          "exception": false,
          "start_time": "2025-06-05T05:40:28.151356",
          "status": "completed"
        },
        "tags": [],
        "id": "2ca6a6d2"
      },
      "source": [
        "3. 제출용 CSV 파일 만들기"
      ]
    },
    {
      "cell_type": "code",
      "execution_count": null,
      "id": "e839132f",
      "metadata": {
        "execution": {
          "iopub.execute_input": "2025-06-05T05:40:28.166708Z",
          "iopub.status.busy": "2025-06-05T05:40:28.166364Z",
          "iopub.status.idle": "2025-06-05T05:40:28.205484Z",
          "shell.execute_reply": "2025-06-05T05:40:28.204762Z"
        },
        "papermill": {
          "duration": 0.047282,
          "end_time": "2025-06-05T05:40:28.207673",
          "exception": false,
          "start_time": "2025-06-05T05:40:28.160391",
          "status": "completed"
        },
        "tags": [],
        "id": "e839132f"
      },
      "outputs": [],
      "source": [
        "p_te = model.predict(X_te)"
      ]
    },
    {
      "cell_type": "code",
      "execution_count": null,
      "id": "21d6be8c",
      "metadata": {
        "execution": {
          "iopub.execute_input": "2025-06-05T05:40:28.218752Z",
          "iopub.status.busy": "2025-06-05T05:40:28.218431Z",
          "iopub.status.idle": "2025-06-05T05:40:28.224380Z",
          "shell.execute_reply": "2025-06-05T05:40:28.223222Z"
        },
        "papermill": {
          "duration": 0.012693,
          "end_time": "2025-06-05T05:40:28.225920",
          "exception": false,
          "start_time": "2025-06-05T05:40:28.213227",
          "status": "completed"
        },
        "tags": [],
        "id": "21d6be8c"
      },
      "outputs": [],
      "source": [
        "df_submission.loc[:,'demand'] = p_te"
      ]
    },
    {
      "cell_type": "code",
      "execution_count": null,
      "id": "5492cb75",
      "metadata": {
        "execution": {
          "iopub.execute_input": "2025-06-05T05:40:28.236349Z",
          "iopub.status.busy": "2025-06-05T05:40:28.236061Z",
          "iopub.status.idle": "2025-06-05T05:40:28.266126Z",
          "shell.execute_reply": "2025-06-05T05:40:28.264993Z"
        },
        "papermill": {
          "duration": 0.036947,
          "end_time": "2025-06-05T05:40:28.267718",
          "exception": false,
          "start_time": "2025-06-05T05:40:28.230771",
          "status": "completed"
        },
        "tags": [],
        "id": "5492cb75"
      },
      "outputs": [],
      "source": [
        "df_submission.to_csv('/kaggle/working/submission.csv')"
      ]
    }
  ],
  "metadata": {
    "kaggle": {
      "accelerator": "none",
      "dataSources": [
        {
          "databundleVersionId": 12564443,
          "sourceId": 104305,
          "sourceType": "competition"
        }
      ],
      "dockerImageVersionId": 31040,
      "isGpuEnabled": false,
      "isInternetEnabled": true,
      "language": "python",
      "sourceType": "notebook"
    },
    "kernelspec": {
      "display_name": "Python 3",
      "language": "python",
      "name": "python3"
    },
    "language_info": {
      "codemirror_mode": {
        "name": "ipython",
        "version": 3
      },
      "file_extension": ".py",
      "mimetype": "text/x-python",
      "name": "python",
      "nbconvert_exporter": "python",
      "pygments_lexer": "ipython3",
      "version": "3.11.11"
    },
    "papermill": {
      "default_parameters": {},
      "duration": 12.248272,
      "end_time": "2025-06-05T05:40:28.993913",
      "environment_variables": {},
      "exception": null,
      "input_path": "__notebook__.ipynb",
      "output_path": "__notebook__.ipynb",
      "parameters": {},
      "start_time": "2025-06-05T05:40:16.745641",
      "version": "2.6.0"
    },
    "colab": {
      "provenance": [],
      "include_colab_link": true
    }
  },
  "nbformat": 4,
  "nbformat_minor": 5
}